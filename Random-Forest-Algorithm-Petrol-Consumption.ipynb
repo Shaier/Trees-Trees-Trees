{
 "cells": [
  {
   "cell_type": "code",
   "execution_count": 1,
   "metadata": {},
   "outputs": [
    {
     "data": {
      "text/plain": [
       "'The random forest algorithm also works well when data has missing values or it has not been scaled well. '"
      ]
     },
     "execution_count": 1,
     "metadata": {},
     "output_type": "execute_result"
    }
   ],
   "source": [
    "#How the Random Forest Algorithm Works\n",
    "'''\n",
    "\"1.Pick N random records from the dataset.\n",
    "2.Build a decision tree based on these N records.\n",
    "3.Choose the number of trees you want in your algorithm and repeat steps 1 and 2.\n",
    "4.In case of a regression problem, for a new record, each tree in the forest predicts a value for Y (output).\n",
    "The final value can be calculated by taking the average of all the values predicted by all the trees in forest.\n",
    "Or, in case of a classification problem, each tree in the forest predicts the category to which the new record belongs.\n",
    "Finally, the new record is assigned to the category that wins the majority vote.\"\n",
    "'''\n",
    "\"The random forest algorithm works well when you have both categorical and numerical features.\"\n",
    "\"The random forest algorithm also works well when data has missing values or it has not been scaled well. \""
   ]
  },
  {
   "cell_type": "code",
   "execution_count": 2,
   "metadata": {},
   "outputs": [],
   "source": [
    "#Using Random Forest for Regression\n",
    "\n",
    "#predict the gas consumption (in millions of gallons) in 48 of the US states based on petrol tax (in cents), per capita\n",
    "#income (dollars), paved highways (in miles) and the proportion of population with the driving license.\n",
    "\n",
    "#Importing libraries\n",
    "import numpy as np\n",
    "import pandas as pd\n",
    "import matplotlib.pyplot as plt"
   ]
  },
  {
   "cell_type": "code",
   "execution_count": 3,
   "metadata": {},
   "outputs": [],
   "source": [
    "#Reading the dataset\n",
    "path='C:\\\\Users\\\\sagi\\\\Desktop\\\\Learning\\\\ML\\\\Datasets\\\\petrol_consumption.csv'\n",
    "dataset=pd.read_csv(path)"
   ]
  },
  {
   "cell_type": "code",
   "execution_count": 4,
   "metadata": {},
   "outputs": [],
   "source": [
    "#Training, Splitting, Testing\n",
    "x=dataset.iloc[:, 0:4].values\n",
    "y = dataset.iloc[:, 4].values\n",
    "\n",
    "from sklearn.model_selection import train_test_split\n",
    "x_train, x_test, y_train, y_test = train_test_split(x, y, test_size=0.2)"
   ]
  },
  {
   "cell_type": "code",
   "execution_count": 5,
   "metadata": {},
   "outputs": [],
   "source": [
    "#Scaling\n",
    "\n",
    "#We need to scale our data because Average_Income field has values in the range of thousands while Petrol_tax has values in range of tens (for example)\n",
    "#Though, it's not too important for the random tree algorithm.\n",
    "\n",
    "from sklearn.preprocessing import StandardScaler\n",
    "sc = StandardScaler()\n",
    "x_train = sc.fit_transform(x_train)\n",
    "x_test = sc.transform(x_test)"
   ]
  },
  {
   "cell_type": "code",
   "execution_count": 6,
   "metadata": {},
   "outputs": [],
   "source": [
    "#Training\n",
    "\n",
    "from sklearn.ensemble import RandomForestRegressor\n",
    "\n",
    "regressor=RandomForestRegressor(n_estimators=200)\n",
    "#The n_estimators parameter defines the number of trees in the random forest\n",
    "regressor.fit(x_train, y_train)\n",
    "y_pred = regressor.predict(x_test)"
   ]
  },
  {
   "cell_type": "code",
   "execution_count": 7,
   "metadata": {},
   "outputs": [
    {
     "name": "stdout",
     "output_type": "stream",
     "text": [
      "Mean Absolute Error: 62.26500000000001\n",
      "Mean Squared Error: 10979.332955000002\n",
      "Root Mean Squared Error: 104.78231222396269\n"
     ]
    }
   ],
   "source": [
    "#Evaluating\n",
    "from sklearn import metrics\n",
    "\n",
    "print('Mean Absolute Error:', metrics.mean_absolute_error(y_test, y_pred))\n",
    "print('Mean Squared Error:', metrics.mean_squared_error(y_test, y_pred))\n",
    "print('Root Mean Squared Error:', np.sqrt(metrics.mean_squared_error(y_test, y_pred)))"
   ]
  }
 ],
 "metadata": {
  "kernelspec": {
   "display_name": "Python 3",
   "language": "python",
   "name": "python3"
  },
  "language_info": {
   "codemirror_mode": {
    "name": "ipython",
    "version": 3
   },
   "file_extension": ".py",
   "mimetype": "text/x-python",
   "name": "python",
   "nbconvert_exporter": "python",
   "pygments_lexer": "ipython3",
   "version": "3.6.7"
  }
 },
 "nbformat": 4,
 "nbformat_minor": 2
}
